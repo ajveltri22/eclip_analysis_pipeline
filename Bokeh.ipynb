{
 "cells": [
  {
   "cell_type": "code",
   "execution_count": 43,
   "metadata": {},
   "outputs": [],
   "source": [
    "import pandas as pd\n",
    "from bokeh.plotting import figure, output_file, show\n",
    "from bokeh.models import ColumnDataSource\n",
    "from bokeh.models.tools import HoverTool\n",
    "from bokeh.palettes import Dark2_5 as palette\n",
    "import itertools\n",
    "from read_file_table import get_multiindex_ctrl_file_table\n",
    "import re\n",
    "\n",
    "output_file(\"pileup_test.html\")\n",
    "\n",
    "file_table_path = \"/Users/lij/PycharmProjects/eclip_analysis_pipeline/file_table.csv\"\n",
    "file_table_df = get_multiindex_ctrl_file_table(file_table_path)\n",
    "file_table_df = file_table_df.sort_index()\n",
    "\n",
    "def generate_pileup_figure(filepath, gene_name, cell):\n",
    "    global file_table_df\n",
    "    filtered_file_table_df = file_table_df.loc[gene_name,cell].copy()\n",
    "    \n",
    "#     ctrl_accession = filtered_file_table_df[filtered_file_table_df[\"experiment_type\"] == \"ctrl\"][\"experiment_accession\"]\n",
    "    ctrl_accession = filtered_file_table_df[filtered_file_table_df[\"experiment_type\"] == \"ctrl\"][\"experiment_accession\"]\n",
    "    data_accession = filtered_file_table_df[filtered_file_table_df[\"experiment_type\"] == \"eclip\"][\"experiment_accession\"]\n",
    "    \n",
    "    assert len(ctrl_accession) == 1, \"Multiple accessions detected for controls\"\n",
    "    assert len(data_accession) == 1, \"Multiple accessions detected for dataset\"\n",
    "    \n",
    "    ctrl_accession = ctrl_accession[0]\n",
    "    data_accession = data_accession[0]\n",
    "                                    \n",
    "    pileup_data = pd.read_csv(filepath)\n",
    "    pileup_data = pileup_data.reset_index()\n",
    "    pileup_data.sort_index(axis=1,inplace=True)\n",
    "    pileup_data.rename(columns={'index':'nucleotide position'}, inplace=True)\n",
    "    pileup_data['nucleotide position'] = pileup_data['nucleotide position']+1\n",
    "    pileup_data.columns = [column.replace(\"_sorted_CONTIG_\",\"_\") for column in pileup_data.columns]\n",
    "    source = ColumnDataSource(pileup_data)\n",
    "    ctrl_names = [column for column in pileup_data.columns if ctrl_accession in column]\n",
    "    data_names = [column for column in pileup_data.columns if data_accession in column]\n",
    "    \n",
    "    contig = ctrl_names[0].split(\"_\")[-1].upper()\n",
    "    \n",
    "    assert len(ctrl_names) == 1, \"More than one control dataset found\"\n",
    "    colors = itertools.cycle(palette)\n",
    "    p = figure(plot_width=1500, plot_height=1000)\n",
    "    p.title.text = f\"{gene_name}, {contig} rRNA ({cell})\"\n",
    "    for ctrlset in ctrl_names:\n",
    "        p.line(x=\"nucleotide position\", y=ctrlset,source=source,  color=next(colors),legend=(ctrl_accession+\"_\"+gene_name+\"_CONTROL\"))\n",
    "    for dataset in data_names:\n",
    "        p.line(x=\"nucleotide position\", y=dataset,source=source, line_width=2, color=next(colors),legend=dict(value=dataset))\n",
    "    p.title.text_font_size = \"24pt\"\n",
    "    p.xaxis.axis_label = \"Nucleotide position\"\n",
    "    p.yaxis.axis_label = \"Reads per Million\"\n",
    "    p.axis.axis_label_text_font_size = \"14pt\"\n",
    "    p.axis.major_label_text_font_size = \"14pt\"\n",
    "    return p\n",
    "\n",
    "\n",
    "# path = \"/Users/lij/PycharmProjects/eclip_analysis_pipeline/20201027_pileup_data/pileup_output/average_pileup_output/18s_average_pileup.csv\"\n",
    "path = \"/Users/lij/PycharmProjects/eclip_analysis_pipeline/20201027_pileup_data/pileup_output/18s_pileup_table.csv\"\n",
    "\n",
    "reggie = generate_pileup_figure(path, 'DDX6',\"K562\")\n",
    "\n",
    "show(reggie)"
   ]
  },
  {
   "cell_type": "code",
   "execution_count": null,
   "metadata": {},
   "outputs": [],
   "source": []
  },
  {
   "cell_type": "code",
   "execution_count": null,
   "metadata": {},
   "outputs": [],
   "source": []
  },
  {
   "cell_type": "code",
   "execution_count": null,
   "metadata": {},
   "outputs": [],
   "source": []
  },
  {
   "cell_type": "code",
   "execution_count": null,
   "metadata": {},
   "outputs": [],
   "source": []
  }
 ],
 "metadata": {
  "kernelspec": {
   "display_name": "Python [conda env:rosalind]",
   "language": "python",
   "name": "conda-env-rosalind-py"
  },
  "language_info": {
   "codemirror_mode": {
    "name": "ipython",
    "version": 3
   },
   "file_extension": ".py",
   "mimetype": "text/x-python",
   "name": "python",
   "nbconvert_exporter": "python",
   "pygments_lexer": "ipython3",
   "version": "3.7.3"
  }
 },
 "nbformat": 4,
 "nbformat_minor": 2
}
